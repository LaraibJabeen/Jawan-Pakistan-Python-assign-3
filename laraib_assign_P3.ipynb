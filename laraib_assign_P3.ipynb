{
 "cells": [
  {
   "cell_type": "code",
   "execution_count": 15,
   "id": "4f47243a",
   "metadata": {
    "scrolled": false
   },
   "outputs": [
    {
     "name": "stdout",
     "output_type": "stream",
     "text": [
      "Twinkle, twinkle, little star,\n",
      "\tHow I wonder what you are!\n",
      "\t \tUp above the world so high,\n",
      "\t \tLike a diamond in the sky.\n",
      " Twinkle, twinkle, little star,\n",
      "\t How I wonder what you are\n"
     ]
    }
   ],
   "source": [
    "# 1. PRINTING IN SPECIFIC FORMAT\n",
    "#using escape sequence\n",
    "print(\"Twinkle, twinkle, little star,\\n\\tHow I wonder what you are!\\n\\t \\tUp above the world so high,\\n\\t \\tLike a diamond in the sky.\\n Twinkle, twinkle, little star,\\n\\t How I wonder what you are\")"
   ]
  },
  {
   "cell_type": "code",
   "execution_count": 16,
   "id": "51055ecd",
   "metadata": {},
   "outputs": [
    {
     "name": "stdout",
     "output_type": "stream",
     "text": [
      "Version being used is  3.8.8\n"
     ]
    }
   ],
   "source": [
    "# 2. USING PYTHON VERSION\n",
    "#using platform module\n",
    "import platform\n",
    "print(\"Version being used is \",platform.python_version())"
   ]
  },
  {
   "cell_type": "code",
   "execution_count": null,
   "id": "89eff777",
   "metadata": {},
   "outputs": [],
   "source": [
    "##### 3. DISPLAY CURRENT DATE AND TIME\n",
    "#using datetime module\n",
    "import datetime                                           #to manipulate date and time\n",
    "date_time = datetime.datetime.now()                       #datetime.now()for current local date and time\n",
    "print(\"current date:\",date_time.strftime(\"%d-%m-%y\"))     #strftime to print date as string in specific formate\n",
    "print(\"current time in 24 hours format:\",date_time.strftime(\"%H:%M\"))   #strftime to print time as string in specific format"
   ]
  },
  {
   "cell_type": "code",
   "execution_count": 38,
   "id": "cf65c7d3",
   "metadata": {},
   "outputs": [
    {
     "name": "stdout",
     "output_type": "stream",
     "text": [
      "type radius of circle in meters 5\n",
      "Area of circle is  78.54 meters-square\n"
     ]
    }
   ],
   "source": [
    "# 4. AREA OF CIRCLE\n",
    "from math import pi                                        # we can directly write 3.142 during calculation but can also do this\n",
    "radius= int(input(\"type radius of circle in meters \"))     # taking input and converting it to integer\n",
    "area_circle= pi*(radius**2)                                #formula of area of circle\n",
    "areaOfCircle= print(\"Area of circle is \", round(area_circle, 2), \"meters-square\") #printing value by rouding off till two decimal places"
   ]
  },
  {
   "cell_type": "code",
   "execution_count": 40,
   "id": "53ab37ea",
   "metadata": {},
   "outputs": [
    {
     "name": "stdout",
     "output_type": "stream",
     "text": [
      "write your first name: laraib\n",
      "write your last name: jabeen\n",
      "jabeen laraib\n"
     ]
    }
   ],
   "source": [
    "# 5. REVERSE NAME WITH SPACE\n",
    "first= input(\"write your first name: \")\n",
    "last= input(\"write your last name: \")\n",
    "print(last+\" \"+first)"
   ]
  },
  {
   "cell_type": "code",
   "execution_count": 47,
   "id": "bb44e715",
   "metadata": {},
   "outputs": [
    {
     "name": "stdout",
     "output_type": "stream",
     "text": [
      "For performing addition: \n",
      "Enter first number: 67\n",
      "Enter second number: 76\n",
      "143\n"
     ]
    }
   ],
   "source": [
    "# 6. ADDITION OF TWO NUMBERS\n",
    "firstNum= int(input(\"For performing addition: \\nEnter first number: \"))\n",
    "secNum= int(input(\"Enter second number: \"))\n",
    "add= firstNum+secNum\n",
    "print(add)"
   ]
  },
  {
   "cell_type": "code",
   "execution_count": 52,
   "id": "916b5070",
   "metadata": {},
   "outputs": [
    {
     "name": "stdout",
     "output_type": "stream",
     "text": [
      "Your Grade is B\n"
     ]
    }
   ],
   "source": [
    "# 7. MARKSHEET\n",
    "math_marks= 68\n",
    "english_marks= 80\n",
    "isl_marks= 90\n",
    "phy_marks=94\n",
    "chem_marks=80\n",
    "obtained_marks= math_marks + english_marks + isl_marks + phy_marks + chem_marks \n",
    "total_marks=500\n",
    "\n",
    "#percentage:\n",
    "percentage= (obtained_marks/total_marks)*100\n",
    "\n",
    "#Grade:\n",
    "if(percentage>=90 and percentage<=100):\n",
    "    print(\"Your Grade is A\")\n",
    "elif(percentage>=80 and percentage<=89):\n",
    "    print(\"Your Grade is B\")\n",
    "elif(percentage>=70 and percentage<=79):\n",
    "    print(\"Your Grade is C\")\n",
    "elif(percentage>=60 and percentage<=69):\n",
    "    print(\"Your Grade is D\")\n",
    "else:\n",
    "    print(\"Sorry! You are failed.\")"
   ]
  },
  {
   "cell_type": "code",
   "execution_count": 4,
   "id": "2ec533f1",
   "metadata": {},
   "outputs": [
    {
     "name": "stdout",
     "output_type": "stream",
     "text": [
      "Enter a number 5\n",
      "odd number\n"
     ]
    }
   ],
   "source": [
    "# 8.  EVEN OR ODD\n",
    "num= int(input(\"Enter a number \"))\n",
    "if num%2==0:\n",
    "    print(\"even number\")\n",
    "else:\n",
    "    print(\"odd number\")"
   ]
  },
  {
   "cell_type": "code",
   "execution_count": null,
   "id": "b0d8cf75",
   "metadata": {},
   "outputs": [],
   "source": [
    "# 9. PRINT LENGTH OF LIST\n",
    "list1= [\"apple\", \"mango\", 2, 6, 8, 9,\"balloon\"]\n",
    "print(\"number of elements in the list are:\", len(list1))"
   ]
  },
  {
   "cell_type": "code",
   "execution_count": 13,
   "id": "8a499526",
   "metadata": {},
   "outputs": [
    {
     "ename": "SyntaxError",
     "evalue": "invalid syntax (<ipython-input-13-5a8b84a1f71b>, line 3)",
     "output_type": "error",
     "traceback": [
      "\u001b[1;36m  File \u001b[1;32m\"<ipython-input-13-5a8b84a1f71b>\"\u001b[1;36m, line \u001b[1;32m3\u001b[0m\n\u001b[1;33m    for element in list1:\u001b[0m\n\u001b[1;37m    ^\u001b[0m\n\u001b[1;31mSyntaxError\u001b[0m\u001b[1;31m:\u001b[0m invalid syntax\n"
     ]
    }
   ],
   "source": [
    "# 10. SUM NUMERIC ITEMS OF LIST\n",
    "list1= [\"apple\", \"mango\", 2, 6, 8, 9,\"balloon\"\n"
   ]
  },
  {
   "cell_type": "code",
   "execution_count": null,
   "id": "71b98831",
   "metadata": {},
   "outputs": [],
   "source": []
  }
 ],
 "metadata": {
  "kernelspec": {
   "display_name": "Python 3",
   "language": "python",
   "name": "python3"
  },
  "language_info": {
   "codemirror_mode": {
    "name": "ipython",
    "version": 3
   },
   "file_extension": ".py",
   "mimetype": "text/x-python",
   "name": "python",
   "nbconvert_exporter": "python",
   "pygments_lexer": "ipython3",
   "version": "3.8.8"
  }
 },
 "nbformat": 4,
 "nbformat_minor": 5
}
